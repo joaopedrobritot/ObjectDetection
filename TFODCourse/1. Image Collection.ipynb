{
 "cells": [
  {
   "cell_type": "markdown",
   "metadata": {},
   "source": [
    "# 1. Import Dependencies"
   ]
  },
  {
   "cell_type": "code",
   "execution_count": 1,
   "metadata": {},
   "outputs": [],
   "source": [
    "# Import opencv\n",
    "import cv2 \n",
    "\n",
    "# Import uuid\n",
    "import uuid\n",
    "\n",
    "# Import Operating System\n",
    "import os\n",
    "\n",
    "# Import time\n",
    "import time"
   ]
  },
  {
   "cell_type": "markdown",
   "metadata": {},
   "source": [
    "# 2. Define Images to Collect"
   ]
  },
  {
   "cell_type": "code",
   "execution_count": 2,
   "metadata": {},
   "outputs": [],
   "source": [
    "labels = ['thumbsup', 'thumbsdown', 'thankyou', 'livelong']\n",
    "number_imgs = 5"
   ]
  },
  {
   "cell_type": "markdown",
   "metadata": {},
   "source": [
    "# 3. Setup Folders "
   ]
  },
  {
   "cell_type": "code",
   "execution_count": 3,
   "metadata": {},
   "outputs": [],
   "source": [
    "IMAGES_PATH = os.path.join('Tensorflow', 'workspace', 'images', 'collectedimages')"
   ]
  },
  {
   "cell_type": "code",
   "execution_count": 4,
   "metadata": {},
   "outputs": [],
   "source": [
    "if not os.path.exists(IMAGES_PATH):\n",
    "    if os.name == 'posix':\n",
    "        !mkdir -p {IMAGES_PATH}\n",
    "    if os.name == 'nt':\n",
    "         !mkdir {IMAGES_PATH}\n",
    "for label in labels:\n",
    "    path = os.path.join(IMAGES_PATH, label)\n",
    "    if not os.path.exists(path):\n",
    "        !mkdir {path}"
   ]
  },
  {
   "cell_type": "markdown",
   "metadata": {},
   "source": [
    "# 4. Capture Images"
   ]
  },
  {
   "cell_type": "code",
   "execution_count": 5,
   "metadata": {},
   "outputs": [
    {
     "name": "stdout",
     "output_type": "stream",
     "text": [
      "Coletando imagens para a label: thumbsup\n",
      "Coletando imagem: 0\n",
      "Coletando imagem: 1\n",
      "Coletando imagem: 2\n",
      "Coletando imagem: 3\n",
      "Coletando imagem: 4\n",
      "Coletando imagens para a label: thumbsdown\n",
      "Coletando imagem: 0\n",
      "Coletando imagem: 1\n",
      "Coletando imagem: 2\n",
      "Coletando imagem: 3\n",
      "Coletando imagem: 4\n",
      "Coletando imagens para a label: thankyou\n",
      "Coletando imagem: 0\n",
      "Coletando imagem: 1\n",
      "Coletando imagem: 2\n",
      "Coletando imagem: 3\n",
      "Coletando imagem: 4\n",
      "Coletando imagens para a label: livelong\n",
      "Coletando imagem: 0\n",
      "Coletando imagem: 1\n",
      "Coletando imagem: 2\n",
      "Coletando imagem: 3\n",
      "Coletando imagem: 4\n"
     ]
    }
   ],
   "source": [
    "for label in labels:\n",
    "    cap = cv2.VideoCapture(0)\n",
    "    print('Coletando imagens para a label: {}'.format(label))\n",
    "    time.sleep(5)\n",
    "    for imgnum in range(number_imgs):\n",
    "        print('Coletando imagem: {}'.format(imgnum))\n",
    "        ret, frame = cap.read()\n",
    "        imgname = os.path.join(IMAGES_PATH,label,label+'.'+'{}.jpg'.format(str(uuid.uuid1())))\n",
    "        cv2.imwrite(imgname, frame)\n",
    "        cv2.imshow('frame', frame)\n",
    "        time.sleep(5)\n",
    "\n",
    "        if cv2.waitKey(1) & 0xFF == ord('q'):\n",
    "            break\n",
    "print(\"Terminou de coletar as imagens.\")\n",
    "cap.release()\n",
    "cv2.destroyAllWindows()"
   ]
  },
  {
   "cell_type": "markdown",
   "metadata": {},
   "source": [
    "# 5. Image Labelling"
   ]
  },
  {
   "cell_type": "code",
   "execution_count": 6,
   "metadata": {},
   "outputs": [
    {
     "name": "stdout",
     "output_type": "stream",
     "text": [
      "Collecting pyqt5\n",
      "  Downloading PyQt5-5.15.7-cp37-abi3-win_amd64.whl (6.8 MB)\n",
      "Requirement already satisfied: lxml in d:\\programs\\anaconda\\lib\\site-packages (4.6.3)\n",
      "Collecting lxml\n",
      "  Downloading lxml-4.9.1-cp39-cp39-win_amd64.whl (3.6 MB)\n",
      "Collecting PyQt5-sip<13,>=12.11\n",
      "  Downloading PyQt5_sip-12.11.0-cp39-cp39-win_amd64.whl (78 kB)\n",
      "Collecting PyQt5-Qt5>=5.15.0\n",
      "  Downloading PyQt5_Qt5-5.15.2-py3-none-win_amd64.whl (50.1 MB)\n",
      "Installing collected packages: PyQt5-sip, PyQt5-Qt5, pyqt5, lxml\n",
      "  Attempting uninstall: lxml\n",
      "    Found existing installation: lxml 4.6.3\n",
      "    Uninstalling lxml-4.6.3:\n",
      "      Successfully uninstalled lxml-4.6.3\n",
      "Successfully installed PyQt5-Qt5-5.15.2 PyQt5-sip-12.11.0 lxml-4.9.1 pyqt5-5.15.7\n"
     ]
    },
    {
     "name": "stderr",
     "output_type": "stream",
     "text": [
      "ERROR: pip's dependency resolver does not currently take into account all the packages that are installed. This behaviour is the source of the following dependency conflicts.\n",
      "spyder 5.1.5 requires pyqtwebengine<5.13, which is not installed.\n",
      "spyder 5.1.5 requires pyqt5<5.13, but you have pyqt5 5.15.7 which is incompatible.\n"
     ]
    }
   ],
   "source": [
    "!pip install --upgrade pyqt5 lxml"
   ]
  },
  {
   "cell_type": "code",
   "execution_count": 8,
   "metadata": {},
   "outputs": [],
   "source": [
    "LABELIMG_PATH = os.path.join('Tensorflow', 'labelimg')"
   ]
  },
  {
   "cell_type": "code",
   "execution_count": 9,
   "metadata": {},
   "outputs": [
    {
     "name": "stderr",
     "output_type": "stream",
     "text": [
      "Cloning into 'Tensorflow\\labelimg'...\n"
     ]
    }
   ],
   "source": [
    "if not os.path.exists(LABELIMG_PATH):\n",
    "    !mkdir {LABELIMG_PATH}\n",
    "    !git clone https://github.com/tzutalin/labelImg {LABELIMG_PATH}"
   ]
  },
  {
   "cell_type": "code",
   "execution_count": 10,
   "metadata": {},
   "outputs": [],
   "source": [
    "if os.name == 'posix':\n",
    "    !make qt5py3\n",
    "if os.name =='nt':\n",
    "    !cd {LABELIMG_PATH} && pyrcc5 -o libs/resources.py resources.qrc"
   ]
  },
  {
   "cell_type": "code",
   "execution_count": 11,
   "metadata": {},
   "outputs": [
    {
     "name": "stdout",
     "output_type": "stream",
     "text": [
      "Image:D:\\joaop\\Desktop\\ComputerVision\\TensorflowObjectDetection\\TFODCourse\\Tensorflow\\workspace\\images\\collectedimages\\livelong\\livelong.c4f69c10-5d3c-11ed-ae18-9829a6e4547f.jpg -> Annotation:D:/joaop/Desktop/ComputerVision/TensorflowObjectDetection/TFODCourse/Tensorflow/workspace/images/collectedimages/livelong\\livelong.c4f69c10-5d3c-11ed-ae18-9829a6e4547f.xml\n",
      "Image:D:\\joaop\\Desktop\\ComputerVision\\TensorflowObjectDetection\\TFODCourse\\Tensorflow\\workspace\\images\\collectedimages\\livelong\\livelong.c7f758f0-5d3c-11ed-a7b5-9829a6e4547f.jpg -> Annotation:D:/joaop/Desktop/ComputerVision/TensorflowObjectDetection/TFODCourse/Tensorflow/workspace/images/collectedimages/livelong\\livelong.c7f758f0-5d3c-11ed-a7b5-9829a6e4547f.xml\n",
      "Image:D:\\joaop\\Desktop\\ComputerVision\\TensorflowObjectDetection\\TFODCourse\\Tensorflow\\workspace\\images\\collectedimages\\livelong\\livelong.caf8a37c-5d3c-11ed-a28c-9829a6e4547f.jpg -> Annotation:D:/joaop/Desktop/ComputerVision/TensorflowObjectDetection/TFODCourse/Tensorflow/workspace/images/collectedimages/livelong\\livelong.caf8a37c-5d3c-11ed-a28c-9829a6e4547f.xml\n",
      "Image:D:\\joaop\\Desktop\\ComputerVision\\TensorflowObjectDetection\\TFODCourse\\Tensorflow\\workspace\\images\\collectedimages\\livelong\\livelong.cdf5ccae-5d3c-11ed-8fa8-9829a6e4547f.jpg -> Annotation:D:/joaop/Desktop/ComputerVision/TensorflowObjectDetection/TFODCourse/Tensorflow/workspace/images/collectedimages/livelong\\livelong.cdf5ccae-5d3c-11ed-8fa8-9829a6e4547f.xml\n",
      "Image:D:\\joaop\\Desktop\\ComputerVision\\TensorflowObjectDetection\\TFODCourse\\Tensorflow\\workspace\\images\\collectedimages\\livelong\\livelong.d0f6adef-5d3c-11ed-abb9-9829a6e4547f.jpg -> Annotation:D:/joaop/Desktop/ComputerVision/TensorflowObjectDetection/TFODCourse/Tensorflow/workspace/images/collectedimages/livelong\\livelong.d0f6adef-5d3c-11ed-abb9-9829a6e4547f.xml\n",
      "Image:D:\\joaop\\Desktop\\ComputerVision\\TensorflowObjectDetection\\TFODCourse\\Tensorflow\\workspace\\images\\collectedimages\\thankyou\\thankyou.b1e23f8a-5d3c-11ed-8b46-9829a6e4547f.jpg -> Annotation:D:/joaop/Desktop/ComputerVision/TensorflowObjectDetection/TFODCourse/Tensorflow/workspace/images/collectedimages/thankyou\\thankyou.b1e23f8a-5d3c-11ed-8b46-9829a6e4547f.xml\n",
      "Image:D:\\joaop\\Desktop\\ComputerVision\\TensorflowObjectDetection\\TFODCourse\\Tensorflow\\workspace\\images\\collectedimages\\thankyou\\thankyou.b4e0a475-5d3c-11ed-b9a2-9829a6e4547f.jpg -> Annotation:D:/joaop/Desktop/ComputerVision/TensorflowObjectDetection/TFODCourse/Tensorflow/workspace/images/collectedimages/thankyou\\thankyou.b4e0a475-5d3c-11ed-b9a2-9829a6e4547f.xml\n",
      "Image:D:\\joaop\\Desktop\\ComputerVision\\TensorflowObjectDetection\\TFODCourse\\Tensorflow\\workspace\\images\\collectedimages\\thankyou\\thankyou.b7e14d3e-5d3c-11ed-b039-9829a6e4547f.jpg -> Annotation:D:/joaop/Desktop/ComputerVision/TensorflowObjectDetection/TFODCourse/Tensorflow/workspace/images/collectedimages/thankyou\\thankyou.b7e14d3e-5d3c-11ed-b039-9829a6e4547f.xml\n",
      "Image:D:\\joaop\\Desktop\\ComputerVision\\TensorflowObjectDetection\\TFODCourse\\Tensorflow\\workspace\\images\\collectedimages\\thankyou\\thankyou.bae0d914-5d3c-11ed-b066-9829a6e4547f.jpg -> Annotation:D:/joaop/Desktop/ComputerVision/TensorflowObjectDetection/TFODCourse/Tensorflow/workspace/images/collectedimages/thankyou\\thankyou.bae0d914-5d3c-11ed-b066-9829a6e4547f.xml\n",
      "Image:D:\\joaop\\Desktop\\ComputerVision\\TensorflowObjectDetection\\TFODCourse\\Tensorflow\\workspace\\images\\collectedimages\\thankyou\\thankyou.bde2182c-5d3c-11ed-9edd-9829a6e4547f.jpg -> Annotation:D:/joaop/Desktop/ComputerVision/TensorflowObjectDetection/TFODCourse/Tensorflow/workspace/images/collectedimages/thankyou\\thankyou.bde2182c-5d3c-11ed-9edd-9829a6e4547f.xml\n",
      "Image:D:\\joaop\\Desktop\\ComputerVision\\TensorflowObjectDetection\\TFODCourse\\Tensorflow\\workspace\\images\\collectedimages\\thumbsdown\\thumbsdown.9ed02125-5d3c-11ed-a545-9829a6e4547f.jpg -> Annotation:D:/joaop/Desktop/ComputerVision/TensorflowObjectDetection/TFODCourse/Tensorflow/workspace/images/collectedimages/thumbsdown\\thumbsdown.9ed02125-5d3c-11ed-a545-9829a6e4547f.xml\n",
      "Image:D:\\joaop\\Desktop\\ComputerVision\\TensorflowObjectDetection\\TFODCourse\\Tensorflow\\workspace\\images\\collectedimages\\thumbsdown\\thumbsdown.a1cf1b2e-5d3c-11ed-ac1c-9829a6e4547f.jpg -> Annotation:D:/joaop/Desktop/ComputerVision/TensorflowObjectDetection/TFODCourse/Tensorflow/workspace/images/collectedimages/thumbsdown\\thumbsdown.a1cf1b2e-5d3c-11ed-ac1c-9829a6e4547f.xml\n",
      "Image:D:\\joaop\\Desktop\\ComputerVision\\TensorflowObjectDetection\\TFODCourse\\Tensorflow\\workspace\\images\\collectedimages\\thumbsdown\\thumbsdown.a4ce2b18-5d3c-11ed-a46c-9829a6e4547f.jpg -> Annotation:D:/joaop/Desktop/ComputerVision/TensorflowObjectDetection/TFODCourse/Tensorflow/workspace/images/collectedimages/thumbsdown\\thumbsdown.a4ce2b18-5d3c-11ed-a46c-9829a6e4547f.xml\n",
      "Image:D:\\joaop\\Desktop\\ComputerVision\\TensorflowObjectDetection\\TFODCourse\\Tensorflow\\workspace\\images\\collectedimages\\thumbsdown\\thumbsdown.a7cea717-5d3c-11ed-8957-9829a6e4547f.jpg -> Annotation:D:/joaop/Desktop/ComputerVision/TensorflowObjectDetection/TFODCourse/Tensorflow/workspace/images/collectedimages/thumbsdown\\thumbsdown.a7cea717-5d3c-11ed-8957-9829a6e4547f.xml\n",
      "Image:D:\\joaop\\Desktop\\ComputerVision\\TensorflowObjectDetection\\TFODCourse\\Tensorflow\\workspace\\images\\collectedimages\\thumbsdown\\thumbsdown.aace34fc-5d3c-11ed-873a-9829a6e4547f.jpg -> Annotation:D:/joaop/Desktop/ComputerVision/TensorflowObjectDetection/TFODCourse/Tensorflow/workspace/images/collectedimages/thumbsdown\\thumbsdown.aace34fc-5d3c-11ed-873a-9829a6e4547f.xml\n",
      "Image:D:\\joaop\\Desktop\\ComputerVision\\TensorflowObjectDetection\\TFODCourse\\Tensorflow\\workspace\\images\\collectedimages\\thumbsup\\thumbsup.8ebb99ea-5d3c-11ed-824d-9829a6e4547f.jpg -> Annotation:D:/joaop/Desktop/ComputerVision/TensorflowObjectDetection/TFODCourse/Tensorflow/workspace/images/collectedimages/thumbsup\\thumbsup.8ebb99ea-5d3c-11ed-824d-9829a6e4547f.xml\n",
      "Image:D:\\joaop\\Desktop\\ComputerVision\\TensorflowObjectDetection\\TFODCourse\\Tensorflow\\workspace\\images\\collectedimages\\thumbsup\\thumbsup.91bb322a-5d3c-11ed-b679-9829a6e4547f.jpg -> Annotation:D:/joaop/Desktop/ComputerVision/TensorflowObjectDetection/TFODCourse/Tensorflow/workspace/images/collectedimages/thumbsup\\thumbsup.91bb322a-5d3c-11ed-b679-9829a6e4547f.xml\n",
      "Image:D:\\joaop\\Desktop\\ComputerVision\\TensorflowObjectDetection\\TFODCourse\\Tensorflow\\workspace\\images\\collectedimages\\thumbsup\\thumbsup.94b9af5c-5d3c-11ed-973b-9829a6e4547f.jpg -> Annotation:D:/joaop/Desktop/ComputerVision/TensorflowObjectDetection/TFODCourse/Tensorflow/workspace/images/collectedimages/thumbsup\\thumbsup.94b9af5c-5d3c-11ed-973b-9829a6e4547f.xml\n",
      "Image:D:\\joaop\\Desktop\\ComputerVision\\TensorflowObjectDetection\\TFODCourse\\Tensorflow\\workspace\\images\\collectedimages\\thumbsup\\thumbsup.97bb260b-5d3c-11ed-b9c5-9829a6e4547f.jpg -> Annotation:D:/joaop/Desktop/ComputerVision/TensorflowObjectDetection/TFODCourse/Tensorflow/workspace/images/collectedimages/thumbsup\\thumbsup.97bb260b-5d3c-11ed-b9c5-9829a6e4547f.xml\n",
      "Image:D:\\joaop\\Desktop\\ComputerVision\\TensorflowObjectDetection\\TFODCourse\\Tensorflow\\workspace\\images\\collectedimages\\thumbsup\\thumbsup.32926785-5d3c-11ed-a555-9829a6e4547f.jpg -> Annotation:D:/joaop/Desktop/ComputerVision/TensorflowObjectDetection/TFODCourse/Tensorflow/workspace/images/collectedimages/thumbsup\\thumbsup.32926785-5d3c-11ed-a555-9829a6e4547f.xml\n"
     ]
    }
   ],
   "source": [
    "!cd {LABELIMG_PATH} && python labelImg.py"
   ]
  },
  {
   "cell_type": "markdown",
   "metadata": {},
   "source": [
    "# 6. Move them into a Training and Testing Partition"
   ]
  },
  {
   "cell_type": "markdown",
   "metadata": {},
   "source": [
    "# OPTIONAL - 7. Compress them for Colab Training"
   ]
  },
  {
   "cell_type": "code",
   "execution_count": null,
   "metadata": {},
   "outputs": [],
   "source": [
    "TRAIN_PATH = os.path.join('Tensorflow', 'workspace', 'images', 'train')\n",
    "TEST_PATH = os.path.join('Tensorflow', 'workspace', 'images', 'test')\n",
    "ARCHIVE_PATH = os.path.join('Tensorflow', 'workspace', 'images', 'archive.tar.gz')"
   ]
  },
  {
   "cell_type": "code",
   "execution_count": null,
   "metadata": {},
   "outputs": [],
   "source": [
    "!tar -czf {ARCHIVE_PATH} {TRAIN_PATH} {TEST_PATH}"
   ]
  },
  {
   "cell_type": "code",
   "execution_count": null,
   "metadata": {},
   "outputs": [],
   "source": []
  }
 ],
 "metadata": {
  "kernelspec": {
   "display_name": "Python 3 (ipykernel)",
   "language": "python",
   "name": "python3"
  },
  "language_info": {
   "codemirror_mode": {
    "name": "ipython",
    "version": 3
   },
   "file_extension": ".py",
   "mimetype": "text/x-python",
   "name": "python",
   "nbconvert_exporter": "python",
   "pygments_lexer": "ipython3",
   "version": "3.9.7"
  }
 },
 "nbformat": 4,
 "nbformat_minor": 2
}

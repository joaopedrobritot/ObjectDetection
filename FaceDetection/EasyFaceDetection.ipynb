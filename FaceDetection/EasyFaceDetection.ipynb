{
 "cells": [
  {
   "cell_type": "code",
   "execution_count": null,
   "metadata": {
    "id": "KUFpAjK1uHB3"
   },
   "outputs": [],
   "source": [
    "import cv2\n",
    "import keyboard\n",
    "import matplotlib.pyplot as plt"
   ]
  },
  {
   "cell_type": "code",
   "execution_count": null,
   "metadata": {
    "id": "d_UrnPbCEHyD"
   },
   "outputs": [],
   "source": [
    "# Enable we\n",
    "# '0' is default ID for builtin web cam\n",
    "# for external web cam ID can be 1 or -1\n",
    "imcap = cv2.VideoCapture(0)\n",
    "imcap.set(3, 640) # set width as 640\n",
    "imcap.set(4, 480) # set height as 480\n",
    "\n",
    "# importing cascade\n",
    "faceCascade = cv2.CascadeClassifier(cv2.data.haarcascades + \"haarcascade_frontalface_default.xml\")\n",
    "eyeCascade = cv2.CascadeClassifier(cv2.data.haarcascades + \"haarcascade_eye_tree_eyeglasses.xml\")"
   ]
  },
  {
   "cell_type": "code",
   "execution_count": null,
   "metadata": {
    "colab": {
     "base_uri": "https://localhost:8080/",
     "height": 235
    },
    "id": "SphfR1ayuOR7",
    "outputId": "4f20ff7c-13b2-43d5-b80a-ecf92e137fcc",
    "scrolled": false
   },
   "outputs": [],
   "source": [
    "while True:\n",
    "    success, img = imcap.read() # capture frame from video\n",
    "    # converting image from color to grayscale \n",
    "    imgGray = cv2.cvtColor(img, cv2.COLOR_BGR2GRAY)\n",
    "\n",
    "    # Getting corners around the face\n",
    "    # 1.3 = scale factor, 5 = minimum neighbor can be detected\n",
    "    faces = faceCascade.detectMultiScale(imgGray, 1.3, 5)  \n",
    "\n",
    "    # drawing bounding box around face\n",
    "    for (x, y, w, h) in faces:\n",
    "        img = cv2.rectangle(img, (x, y), (x + w, y + h), (0, 255,   0), 3)\n",
    "    \n",
    "    eyes = eyeCascade.detectMultiScale(imgGray)\n",
    "    # drawing bounding box for eyes\n",
    "    for (ex, ey, ew, eh) in eyes:\n",
    "        img = cv2.rectangle(img, (ex, ey), (ex+ew, ey+eh), (255, 0, 0), 3)\n",
    "    # displaying image with bounding box\n",
    "    img = cv2.cvtColor(img, cv2.COLOR_BGR2RGB)\n",
    "    plt.imshow(img)\n",
    "    plt.show()"
   ]
  }
 ],
 "metadata": {
  "colab": {
   "provenance": []
  },
  "kernelspec": {
   "display_name": "Python 3 (ipykernel)",
   "language": "python",
   "name": "python3"
  },
  "language_info": {
   "codemirror_mode": {
    "name": "ipython",
    "version": 3
   },
   "file_extension": ".py",
   "mimetype": "text/x-python",
   "name": "python",
   "nbconvert_exporter": "python",
   "pygments_lexer": "ipython3",
   "version": "3.10.4"
  }
 },
 "nbformat": 4,
 "nbformat_minor": 1
}
